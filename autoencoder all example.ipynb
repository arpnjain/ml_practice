{
 "cells": [
  {
   "cell_type": "code",
   "execution_count": 69,
   "metadata": {},
   "outputs": [],
   "source": [
    "from keras.models import Sequential\n",
    "from keras.layers import Activation,Dense\n",
    "from IPython.display import Image, SVG\n",
    "from keras.utils.vis_utils import model_to_dot\n",
    "import numpy as np"
   ]
  },
  {
   "cell_type": "code",
   "execution_count": 70,
   "metadata": {},
   "outputs": [],
   "source": [
    "mnist= np.load('mnist.npz')"
   ]
  },
  {
   "cell_type": "code",
   "execution_count": 71,
   "metadata": {},
   "outputs": [
    {
     "data": {
      "text/plain": [
       "['x_test', 'x_train', 'y_train', 'y_test']"
      ]
     },
     "execution_count": 71,
     "metadata": {},
     "output_type": "execute_result"
    }
   ],
   "source": [
    "mnist.files"
   ]
  },
  {
   "cell_type": "code",
   "execution_count": 72,
   "metadata": {},
   "outputs": [],
   "source": [
    "x_train,x_test=mnist['x_train'],mnist['x_test']"
   ]
  },
  {
   "cell_type": "code",
   "execution_count": 73,
   "metadata": {},
   "outputs": [],
   "source": [
    "# normalize the data\n",
    "max_value_mnsit= float(x_train.max())\n",
    "x_train = x_train.astype('float32')/max_value_mnsit\n",
    "x_test = x_test.astype('float32')/max_value_mnsit\n"
   ]
  },
  {
   "cell_type": "code",
   "execution_count": 74,
   "metadata": {},
   "outputs": [],
   "source": [
    "# reshape the data\n",
    "x_train= x_train.reshape(x_train.shape[0],x_train.shape[1]*x_train.shape[1])\n",
    "x_test= x_test.reshape(x_test.shape[0],x_test.shape[1]*x_test.shape[1])"
   ]
  },
  {
   "cell_type": "code",
   "execution_count": 75,
   "metadata": {},
   "outputs": [
    {
     "name": "stdout",
     "output_type": "stream",
     "text": [
      "compress factor is 24.5\n"
     ]
    }
   ],
   "source": [
    "# simple autoencoder\n",
    "input_dim= x_train.shape[1]\n",
    "encoded_dim =32\n",
    "compress_factor = float(input_dim/ encoded_dim)\n",
    "\n",
    "print(\"compress factor is {}\".format(compress_factor))"
   ]
  },
  {
   "cell_type": "code",
   "execution_count": 76,
   "metadata": {},
   "outputs": [],
   "source": [
    "auto_encoder = Sequential()\n",
    "\n",
    "auto_encoder.add(Dense(encoded_dim, input_shape=(input_dim,), activation='relu'))\n",
    "auto_encoder.add(Dense(input_dim,activation='sigmoid'))"
   ]
  },
  {
   "cell_type": "code",
   "execution_count": 77,
   "metadata": {},
   "outputs": [
    {
     "name": "stdout",
     "output_type": "stream",
     "text": [
      "_________________________________________________________________\n",
      "Layer (type)                 Output Shape              Param #   \n",
      "=================================================================\n",
      "dense_5 (Dense)              (None, 32)                25120     \n",
      "_________________________________________________________________\n",
      "dense_6 (Dense)              (None, 784)               25872     \n",
      "=================================================================\n",
      "Total params: 50,992\n",
      "Trainable params: 50,992\n",
      "Non-trainable params: 0\n",
      "_________________________________________________________________\n"
     ]
    }
   ],
   "source": [
    "auto_encoder.summary()"
   ]
  },
  {
   "cell_type": "code",
   "execution_count": 78,
   "metadata": {},
   "outputs": [
    {
     "data": {
      "image/svg+xml": [
       "<svg height=\"221pt\" viewBox=\"0.00 0.00 309.00 221.00\" width=\"309pt\" xmlns=\"http://www.w3.org/2000/svg\" xmlns:xlink=\"http://www.w3.org/1999/xlink\">\n",
       "<g class=\"graph\" id=\"graph0\" transform=\"scale(1 1) rotate(0) translate(4 217)\">\n",
       "<title>G</title>\n",
       "<polygon fill=\"#ffffff\" points=\"-4,4 -4,-217 305,-217 305,4 -4,4\" stroke=\"transparent\"/>\n",
       "<!-- 139651865892400 -->\n",
       "<g class=\"node\" id=\"node1\">\n",
       "<title>139651865892400</title>\n",
       "<polygon fill=\"none\" points=\"0,-166.5 0,-212.5 301,-212.5 301,-166.5 0,-166.5\" stroke=\"#000000\"/>\n",
       "<text fill=\"#000000\" font-family=\"Times,serif\" font-size=\"14.00\" text-anchor=\"middle\" x=\"81.5\" y=\"-185.8\">dense_5_input: InputLayer</text>\n",
       "<polyline fill=\"none\" points=\"163,-166.5 163,-212.5 \" stroke=\"#000000\"/>\n",
       "<text fill=\"#000000\" font-family=\"Times,serif\" font-size=\"14.00\" text-anchor=\"middle\" x=\"190.5\" y=\"-197.3\">input:</text>\n",
       "<polyline fill=\"none\" points=\"163,-189.5 218,-189.5 \" stroke=\"#000000\"/>\n",
       "<text fill=\"#000000\" font-family=\"Times,serif\" font-size=\"14.00\" text-anchor=\"middle\" x=\"190.5\" y=\"-174.3\">output:</text>\n",
       "<polyline fill=\"none\" points=\"218,-166.5 218,-212.5 \" stroke=\"#000000\"/>\n",
       "<text fill=\"#000000\" font-family=\"Times,serif\" font-size=\"14.00\" text-anchor=\"middle\" x=\"259.5\" y=\"-197.3\">(None, 784)</text>\n",
       "<polyline fill=\"none\" points=\"218,-189.5 301,-189.5 \" stroke=\"#000000\"/>\n",
       "<text fill=\"#000000\" font-family=\"Times,serif\" font-size=\"14.00\" text-anchor=\"middle\" x=\"259.5\" y=\"-174.3\">(None, 784)</text>\n",
       "</g>\n",
       "<!-- 139651820544744 -->\n",
       "<g class=\"node\" id=\"node2\">\n",
       "<title>139651820544744</title>\n",
       "<polygon fill=\"none\" points=\"30.5,-83.5 30.5,-129.5 270.5,-129.5 270.5,-83.5 30.5,-83.5\" stroke=\"#000000\"/>\n",
       "<text fill=\"#000000\" font-family=\"Times,serif\" font-size=\"14.00\" text-anchor=\"middle\" x=\"81.5\" y=\"-102.8\">dense_5: Dense</text>\n",
       "<polyline fill=\"none\" points=\"132.5,-83.5 132.5,-129.5 \" stroke=\"#000000\"/>\n",
       "<text fill=\"#000000\" font-family=\"Times,serif\" font-size=\"14.00\" text-anchor=\"middle\" x=\"160\" y=\"-114.3\">input:</text>\n",
       "<polyline fill=\"none\" points=\"132.5,-106.5 187.5,-106.5 \" stroke=\"#000000\"/>\n",
       "<text fill=\"#000000\" font-family=\"Times,serif\" font-size=\"14.00\" text-anchor=\"middle\" x=\"160\" y=\"-91.3\">output:</text>\n",
       "<polyline fill=\"none\" points=\"187.5,-83.5 187.5,-129.5 \" stroke=\"#000000\"/>\n",
       "<text fill=\"#000000\" font-family=\"Times,serif\" font-size=\"14.00\" text-anchor=\"middle\" x=\"229\" y=\"-114.3\">(None, 784)</text>\n",
       "<polyline fill=\"none\" points=\"187.5,-106.5 270.5,-106.5 \" stroke=\"#000000\"/>\n",
       "<text fill=\"#000000\" font-family=\"Times,serif\" font-size=\"14.00\" text-anchor=\"middle\" x=\"229\" y=\"-91.3\">(None, 32)</text>\n",
       "</g>\n",
       "<!-- 139651865892400&#45;&gt;139651820544744 -->\n",
       "<g class=\"edge\" id=\"edge1\">\n",
       "<title>139651865892400-&gt;139651820544744</title>\n",
       "<path d=\"M150.5,-166.3799C150.5,-158.1745 150.5,-148.7679 150.5,-139.8786\" fill=\"none\" stroke=\"#000000\"/>\n",
       "<polygon fill=\"#000000\" points=\"154.0001,-139.784 150.5,-129.784 147.0001,-139.784 154.0001,-139.784\" stroke=\"#000000\"/>\n",
       "</g>\n",
       "<!-- 139651820546144 -->\n",
       "<g class=\"node\" id=\"node3\">\n",
       "<title>139651820546144</title>\n",
       "<polygon fill=\"none\" points=\"30.5,-.5 30.5,-46.5 270.5,-46.5 270.5,-.5 30.5,-.5\" stroke=\"#000000\"/>\n",
       "<text fill=\"#000000\" font-family=\"Times,serif\" font-size=\"14.00\" text-anchor=\"middle\" x=\"81.5\" y=\"-19.8\">dense_6: Dense</text>\n",
       "<polyline fill=\"none\" points=\"132.5,-.5 132.5,-46.5 \" stroke=\"#000000\"/>\n",
       "<text fill=\"#000000\" font-family=\"Times,serif\" font-size=\"14.00\" text-anchor=\"middle\" x=\"160\" y=\"-31.3\">input:</text>\n",
       "<polyline fill=\"none\" points=\"132.5,-23.5 187.5,-23.5 \" stroke=\"#000000\"/>\n",
       "<text fill=\"#000000\" font-family=\"Times,serif\" font-size=\"14.00\" text-anchor=\"middle\" x=\"160\" y=\"-8.3\">output:</text>\n",
       "<polyline fill=\"none\" points=\"187.5,-.5 187.5,-46.5 \" stroke=\"#000000\"/>\n",
       "<text fill=\"#000000\" font-family=\"Times,serif\" font-size=\"14.00\" text-anchor=\"middle\" x=\"229\" y=\"-31.3\">(None, 32)</text>\n",
       "<polyline fill=\"none\" points=\"187.5,-23.5 270.5,-23.5 \" stroke=\"#000000\"/>\n",
       "<text fill=\"#000000\" font-family=\"Times,serif\" font-size=\"14.00\" text-anchor=\"middle\" x=\"229\" y=\"-8.3\">(None, 784)</text>\n",
       "</g>\n",
       "<!-- 139651820544744&#45;&gt;139651820546144 -->\n",
       "<g class=\"edge\" id=\"edge2\">\n",
       "<title>139651820544744-&gt;139651820546144</title>\n",
       "<path d=\"M150.5,-83.3799C150.5,-75.1745 150.5,-65.7679 150.5,-56.8786\" fill=\"none\" stroke=\"#000000\"/>\n",
       "<polygon fill=\"#000000\" points=\"154.0001,-56.784 150.5,-46.784 147.0001,-56.784 154.0001,-56.784\" stroke=\"#000000\"/>\n",
       "</g>\n",
       "</g>\n",
       "</svg>"
      ],
      "text/plain": [
       "<IPython.core.display.SVG object>"
      ]
     },
     "execution_count": 78,
     "metadata": {},
     "output_type": "execute_result"
    }
   ],
   "source": [
    "SVG(model_to_dot(auto_encoder,show_shapes=True).create(prog='dot',format='svg'))"
   ]
  },
  {
   "cell_type": "code",
   "execution_count": 79,
   "metadata": {},
   "outputs": [
    {
     "name": "stdout",
     "output_type": "stream",
     "text": [
      "WARNING:tensorflow:From /home/arpan/anaconda3/lib/python3.6/site-packages/keras/backend/tensorflow_backend.py:1297: calling reduce_mean (from tensorflow.python.ops.math_ops) with keep_dims is deprecated and will be removed in a future version.\n",
      "Instructions for updating:\n",
      "keep_dims is deprecated, use keepdims instead\n"
     ]
    }
   ],
   "source": [
    "auto_encoder.compile(optimizer='adam', loss='binary_crossentropy')"
   ]
  },
  {
   "cell_type": "code",
   "execution_count": 80,
   "metadata": {},
   "outputs": [
    {
     "name": "stdout",
     "output_type": "stream",
     "text": [
      "Train on 60000 samples, validate on 10000 samples\n",
      "Epoch 1/50\n",
      "60000/60000 [==============================] - 4s - loss: 0.2743 - val_loss: 0.1904\n",
      "Epoch 2/50\n",
      "60000/60000 [==============================] - 3s - loss: 0.1705 - val_loss: 0.1530\n",
      "Epoch 3/50\n",
      "60000/60000 [==============================] - 2s - loss: 0.1439 - val_loss: 0.1339\n",
      "Epoch 4/50\n",
      "60000/60000 [==============================] - 2s - loss: 0.1287 - val_loss: 0.1215\n",
      "Epoch 5/50\n",
      "60000/60000 [==============================] - 2s - loss: 0.1185 - val_loss: 0.1131\n",
      "Epoch 6/50\n",
      "60000/60000 [==============================] - 2s - loss: 0.1114 - val_loss: 0.1070\n",
      "Epoch 7/50\n",
      "60000/60000 [==============================] - 2s - loss: 0.1061 - val_loss: 0.1025\n",
      "Epoch 8/50\n",
      "60000/60000 [==============================] - 2s - loss: 0.1022 - val_loss: 0.0993\n",
      "Epoch 9/50\n",
      "60000/60000 [==============================] - 2s - loss: 0.0995 - val_loss: 0.0970\n",
      "Epoch 10/50\n",
      "60000/60000 [==============================] - 2s - loss: 0.0975 - val_loss: 0.0955\n",
      "Epoch 11/50\n",
      "60000/60000 [==============================] - 2s - loss: 0.0963 - val_loss: 0.0943\n",
      "Epoch 12/50\n",
      "60000/60000 [==============================] - 2s - loss: 0.0954 - val_loss: 0.0938\n",
      "Epoch 13/50\n",
      "60000/60000 [==============================] - 2s - loss: 0.0949 - val_loss: 0.0933\n",
      "Epoch 14/50\n",
      "60000/60000 [==============================] - 2s - loss: 0.0945 - val_loss: 0.0930\n",
      "Epoch 15/50\n",
      "60000/60000 [==============================] - 2s - loss: 0.0942 - val_loss: 0.0927\n",
      "Epoch 16/50\n",
      "60000/60000 [==============================] - 2s - loss: 0.0940 - val_loss: 0.0925\n",
      "Epoch 17/50\n",
      "60000/60000 [==============================] - 2s - loss: 0.0938 - val_loss: 0.0924\n",
      "Epoch 18/50\n",
      "60000/60000 [==============================] - 2s - loss: 0.0937 - val_loss: 0.0923\n",
      "Epoch 19/50\n",
      "60000/60000 [==============================] - 3s - loss: 0.0936 - val_loss: 0.0922\n",
      "Epoch 20/50\n",
      "60000/60000 [==============================] - 2s - loss: 0.0935 - val_loss: 0.0921\n",
      "Epoch 21/50\n",
      "60000/60000 [==============================] - 2s - loss: 0.0934 - val_loss: 0.0920\n",
      "Epoch 22/50\n",
      "60000/60000 [==============================] - 2s - loss: 0.0933 - val_loss: 0.0920\n",
      "Epoch 23/50\n",
      "60000/60000 [==============================] - 2s - loss: 0.0932 - val_loss: 0.0920\n",
      "Epoch 24/50\n",
      "60000/60000 [==============================] - 2s - loss: 0.0932 - val_loss: 0.0919\n",
      "Epoch 25/50\n",
      "60000/60000 [==============================] - 2s - loss: 0.0932 - val_loss: 0.0918\n",
      "Epoch 26/50\n",
      "60000/60000 [==============================] - 2s - loss: 0.0931 - val_loss: 0.0918\n",
      "Epoch 27/50\n",
      "60000/60000 [==============================] - 2s - loss: 0.0931 - val_loss: 0.0918\n",
      "Epoch 28/50\n",
      "60000/60000 [==============================] - 2s - loss: 0.0930 - val_loss: 0.0917\n",
      "Epoch 29/50\n",
      "60000/60000 [==============================] - 2s - loss: 0.0930 - val_loss: 0.0917\n",
      "Epoch 30/50\n",
      "60000/60000 [==============================] - 2s - loss: 0.0929 - val_loss: 0.0917\n",
      "Epoch 31/50\n",
      "60000/60000 [==============================] - 2s - loss: 0.0929 - val_loss: 0.0917\n",
      "Epoch 32/50\n",
      "60000/60000 [==============================] - 2s - loss: 0.0929 - val_loss: 0.0917\n",
      "Epoch 33/50\n",
      "60000/60000 [==============================] - 4s - loss: 0.0929 - val_loss: 0.0916\n",
      "Epoch 34/50\n",
      "60000/60000 [==============================] - 3s - loss: 0.0928 - val_loss: 0.0916\n",
      "Epoch 35/50\n",
      "60000/60000 [==============================] - 3s - loss: 0.0928 - val_loss: 0.0916\n",
      "Epoch 36/50\n",
      "60000/60000 [==============================] - 2s - loss: 0.0928 - val_loss: 0.0916\n",
      "Epoch 37/50\n",
      "60000/60000 [==============================] - 3s - loss: 0.0928 - val_loss: 0.0916\n",
      "Epoch 38/50\n",
      "60000/60000 [==============================] - 2s - loss: 0.0928 - val_loss: 0.0916\n",
      "Epoch 39/50\n",
      "60000/60000 [==============================] - 2s - loss: 0.0928 - val_loss: 0.0916\n",
      "Epoch 40/50\n",
      "60000/60000 [==============================] - 3s - loss: 0.0927 - val_loss: 0.0915\n",
      "Epoch 41/50\n",
      "60000/60000 [==============================] - 3s - loss: 0.0927 - val_loss: 0.0915\n",
      "Epoch 42/50\n",
      "60000/60000 [==============================] - 2s - loss: 0.0927 - val_loss: 0.0915\n",
      "Epoch 43/50\n",
      "60000/60000 [==============================] - 2s - loss: 0.0927 - val_loss: 0.0915\n",
      "Epoch 44/50\n",
      "60000/60000 [==============================] - 2s - loss: 0.0927 - val_loss: 0.0915\n",
      "Epoch 45/50\n",
      "60000/60000 [==============================] - 2s - loss: 0.0927 - val_loss: 0.0915\n",
      "Epoch 46/50\n",
      "60000/60000 [==============================] - 2s - loss: 0.0927 - val_loss: 0.0915\n",
      "Epoch 47/50\n",
      "60000/60000 [==============================] - 2s - loss: 0.0927 - val_loss: 0.0915\n",
      "Epoch 48/50\n",
      "60000/60000 [==============================] - 2s - loss: 0.0926 - val_loss: 0.0914\n",
      "Epoch 49/50\n",
      "60000/60000 [==============================] - 3s - loss: 0.0926 - val_loss: 0.0915\n",
      "Epoch 50/50\n",
      "60000/60000 [==============================] - 2s - loss: 0.0926 - val_loss: 0.0916\n"
     ]
    },
    {
     "data": {
      "text/plain": [
       "<keras.callbacks.History at 0x7f033bb9fba8>"
      ]
     },
     "execution_count": 80,
     "metadata": {},
     "output_type": "execute_result"
    }
   ],
   "source": [
    "auto_encoder.fit(x_train,x_train,validation_data=(x_test,x_test),batch_size=256,epochs=50,shuffle=True)"
   ]
  },
  {
   "cell_type": "code",
   "execution_count": 89,
   "metadata": {},
   "outputs": [],
   "source": [
    "x_test_image=np.random.randint(x_test.shape[1],size=10)"
   ]
  },
  {
   "cell_type": "code",
   "execution_count": 94,
   "metadata": {},
   "outputs": [
    {
     "data": {
      "image/png": "[encoded data removed]",
      "text/plain": [
       "<Figure size 1296x432 with 20 Axes>"
      ]
     },
     "metadata": {},
     "output_type": "display_data"
    }
   ],
   "source": [
    "# decoded images\n",
    "decond_img=auto_encoder.predict(x_test) \n",
    "import matplotlib.pyplot as plt\n",
    "\n",
    "plt.figure(figsize=(18,6))\n",
    "for i,images_test in enumerate(x_test_image):\n",
    "    \n",
    "    ax=plt.subplot(3,10,i+1)\n",
    "    plt.imshow(x_test[images_test].reshape(28,28))\n",
    "    plt.gray()\n",
    "    \n",
    "    \n",
    "    ax=plt.subplot(3,10,10+i+1)\n",
    "    plt.imshow(decond_img[images_test].reshape(28,28))\n",
    "    plt.gray()\n",
    "    \n",
    "    "
   ]
  },
  {
   "cell_type": "code",
   "execution_count": null,
   "metadata": {},
   "outputs": [],
   "source": [
    "\n"
   ]
  },
  {
   "cell_type": "code",
   "execution_count": null,
   "metadata": {},
   "outputs": [],
   "source": []
  }
 ],
 "metadata": {
  "kernelspec": {
   "display_name": "Python 3",
   "language": "python",
   "name": "python3"
  },
  "language_info": {
   "codemirror_mode": {
    "name": "ipython",
    "version": 3
   },
   "file_extension": ".py",
   "mimetype": "text/x-python",
   "name": "python",
   "nbconvert_exporter": "python",
   "pygments_lexer": "ipython3",
   "version": "3.6.5"
  }
 },
 "nbformat": 4,
 "nbformat_minor": 2
}
